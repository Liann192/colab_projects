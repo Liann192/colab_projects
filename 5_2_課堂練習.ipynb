{
  "nbformat": 4,
  "nbformat_minor": 0,
  "metadata": {
    "colab": {
      "provenance": [],
      "authorship_tag": "ABX9TyPwDDgeyQOafRxZk/mz5dVC",
      "include_colab_link": true
    },
    "kernelspec": {
      "name": "python3",
      "display_name": "Python 3"
    },
    "language_info": {
      "name": "python"
    }
  },
  "cells": [
    {
      "cell_type": "markdown",
      "metadata": {
        "id": "view-in-github",
        "colab_type": "text"
      },
      "source": [
        "<a href=\"https://colab.research.google.com/github/Liann192/colab_projects/blob/main/5_2_%E8%AA%B2%E5%A0%82%E7%B7%B4%E7%BF%92.ipynb\" target=\"_parent\"><img src=\"https://colab.research.google.com/assets/colab-badge.svg\" alt=\"Open In Colab\"/></a>"
      ]
    },
    {
      "cell_type": "code",
      "execution_count": null,
      "metadata": {
        "colab": {
          "base_uri": "https://localhost:8080/"
        },
        "id": "kXaiUVLpBQvs",
        "outputId": "caef43ed-bed3-4be1-bda2-79c1a22a6e6d"
      },
      "outputs": [
        {
          "output_type": "stream",
          "name": "stdout",
          "text": [
            "21\n",
            "today is a goood day!\n",
            "TODAY IS A GOOOD DAY!\n"
          ]
        }
      ],
      "source": [
        "sent=\"today is a goood day!\" #練習一\n",
        "print(len(sent))\n",
        "sentupp=sent.lower()\n",
        "sentloww=sent.upper()\n",
        "print(sentupp)\n",
        "print(sentloww)"
      ]
    },
    {
      "cell_type": "code",
      "source": [
        "string_1=\"smart\"  #練習二\n",
        "string_2=\"boy\"\n",
        "\n",
        "print(f\"He is a {string_1} {string_2}. I knew it very well.\")"
      ],
      "metadata": {
        "colab": {
          "base_uri": "https://localhost:8080/"
        },
        "id": "xxon8BTPEZ1u",
        "outputId": "d2d3522c-c948-47a8-fea0-5e763cef50aa"
      },
      "execution_count": null,
      "outputs": [
        {
          "output_type": "stream",
          "name": "stdout",
          "text": [
            "He is a smart boy. I knew it very well.\n"
          ]
        }
      ]
    },
    {
      "cell_type": "code",
      "source": [
        "def wordDetect(s):\n",
        "  if s== s.lower():\n",
        "    print(\"lower\")\n",
        "  elif s==s.upper():\n",
        "    print(\"upper\")\n",
        "  else:\n",
        "    print(\"mixed\")\n",
        "\n",
        "sting_text =\"hello\"\n",
        "\n",
        "wordDetect(sting_text)\n"
      ],
      "metadata": {
        "colab": {
          "base_uri": "https://localhost:8080/"
        },
        "id": "TT10T6xJOUal",
        "outputId": "0a7decab-370c-4b3c-f8f5-c095dafd0c0e"
      },
      "execution_count": null,
      "outputs": [
        {
          "output_type": "stream",
          "name": "stdout",
          "text": [
            "lower\n"
          ]
        }
      ]
    }
  ]
}